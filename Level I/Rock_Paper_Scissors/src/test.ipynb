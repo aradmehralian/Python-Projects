{
 "cells": [
  {
   "cell_type": "code",
   "execution_count": 1,
   "metadata": {},
   "outputs": [],
   "source": [
    "import random"
   ]
  },
  {
   "cell_type": "code",
   "execution_count": 76,
   "metadata": {},
   "outputs": [],
   "source": [
    "class RockPaperScissor:\n",
    "\n",
    "    def __init__(self):\n",
    "        self.choice = None\n",
    "        self.options = {1: \"rock\", 2: \"paper\", 3: \"scissors\"}\n",
    "\n",
    "    def play(self):\n",
    "        self.choice = self.options[random.randint(1, 3)]\n",
    "        return self.choice"
   ]
  },
  {
   "cell_type": "code",
   "execution_count": 55,
   "metadata": {},
   "outputs": [],
   "source": [
    "computer = RockPaperScissor()"
   ]
  },
  {
   "cell_type": "code",
   "execution_count": 69,
   "metadata": {},
   "outputs": [
    {
     "data": {
      "text/plain": [
       "'scissor'"
      ]
     },
     "execution_count": 69,
     "metadata": {},
     "output_type": "execute_result"
    }
   ],
   "source": [
    "computer.play()"
   ]
  },
  {
   "cell_type": "code",
   "execution_count": 51,
   "metadata": {},
   "outputs": [],
   "source": [
    "def get_valid_input():\n",
    "    \n",
    "    options = ['rock', 'paper', 'scissors']\n",
    "    while True:\n",
    "        user_choice = input(\"Please enter your choice: \")\n",
    "        if user_choice == 'q':\n",
    "            return 'q'\n",
    "        elif user_choice.lower() in options:\n",
    "            return user_choice.lower()\n",
    "        else:\n",
    "            print(\"Invalid input! Try again\")\n",
    "            continue"
   ]
  },
  {
   "cell_type": "code",
   "execution_count": 53,
   "metadata": {},
   "outputs": [
    {
     "data": {
      "text/plain": [
       "'rock'"
      ]
     },
     "execution_count": 53,
     "metadata": {},
     "output_type": "execute_result"
    }
   ],
   "source": [
    "user_choice = get_valid_input()\n",
    "user_choice"
   ]
  },
  {
   "cell_type": "code",
   "execution_count": 77,
   "metadata": {},
   "outputs": [],
   "source": [
    "def decicde_winner(computer_choice, user_choice):\n",
    "    if (computer_choice == user_choice):\n",
    "        return \"Draw!\"\n",
    "    elif (computer_choice == 'rock' and user_choice == 'scissors'):\n",
    "        return \"Computer wins!\"\n",
    "    elif (computer_choice == 'paper' and user_choice == 'rock'):\n",
    "        return \"Computer wins!\"\n",
    "    elif (computer_choice == 'scissors' and user_choice == 'paper'):\n",
    "        return \"Computer wins!\"\n",
    "    else:\n",
    "        return \"User wins!\"\n",
    "\n",
    "        "
   ]
  },
  {
   "cell_type": "code",
   "execution_count": 79,
   "metadata": {},
   "outputs": [
    {
     "name": "stdout",
     "output_type": "stream",
     "text": [
      "Welcome to our Rock Paper Scissors game!\n",
      "Enter your choice in the prompt to see who wins!\n",
      "If you wish to quit the game just enter 'q' in the prompt.\n",
      "Let's dive into it!\n",
      "------------------------------------------------------------\n",
      "You have decided to quit the game. Goodbye!\n"
     ]
    }
   ],
   "source": [
    "print(\"Welcome to our Rock Paper Scissors game!\")\n",
    "print(\"Enter your choice in the prompt to see who wins!\")\n",
    "print(\"If you wish to quit the game just enter 'q' in the prompt.\")\n",
    "print(\"Let's dive into it!\")\n",
    "print(\"-\" * 60)\n",
    "computer = RockPaperScissor()\n",
    "\n",
    "while True:\n",
    "\n",
    "    user_choice = get_valid_input()\n",
    "    if user_choice == 'q':\n",
    "        print(\"You have decided to quit the game. Goodbye!\")\n",
    "        break\n",
    "    computer_choice = computer.play()\n",
    "    print(f\"Your choice: {user_choice}\")\n",
    "    print(f\"Computer's choice: {computer_choice}\")\n",
    "    result = decicde_winner(computer_choice, user_choice)\n",
    "    print(result)\n",
    "    \n"
   ]
  }
 ],
 "metadata": {
  "kernelspec": {
   "display_name": "py310",
   "language": "python",
   "name": "python3"
  },
  "language_info": {
   "codemirror_mode": {
    "name": "ipython",
    "version": 3
   },
   "file_extension": ".py",
   "mimetype": "text/x-python",
   "name": "python",
   "nbconvert_exporter": "python",
   "pygments_lexer": "ipython3",
   "version": "3.10.14"
  }
 },
 "nbformat": 4,
 "nbformat_minor": 2
}
